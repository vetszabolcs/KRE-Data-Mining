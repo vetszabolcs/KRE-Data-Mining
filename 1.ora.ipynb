{
 "cells": [
  {
   "cell_type": "markdown",
   "metadata": {},
   "source": [
    "# Adatbányász szoftverek alkalmazása\n",
    "### Teljesítés módja: ZH és prezentáció (önálló elemzés bemutatása)"
   ]
  },
  {
   "cell_type": "markdown",
   "metadata": {},
   "source": [
    "## Használt technológiák:\n",
    "- __Python__ és a hozzá tartozó adatelemző könyvtárak (numpy, pandas, matplotlib, seaborn, scikit-learn)\n",
    "- [__Anaconda__](https://www.anaconda.com/): programozó platform, ami megkönnyíti a Python és R könyvtárak és környezetek karbantartását - saját python interpretálója van\n",
    "- Jupyter Notebook: Python programozási környezet, ami lehetővé teszi kód-blokkok futtatását (egyes sorok vagy a teljes fájl helyett), az eredmények és egyéb tartalmak megjelenítése mellett. Nagyon sokféle fájllá átalakítható (pl. html) - alapértelmezetten az Anaconda része\n",
    "- [__Visual Studio Code__](https://code.visualstudio.com/):  kódszerkesztő program\n",
    "\n",
    "###  Ezek közül (a kurzus teljesítéséhez) az Anacondát otthoni eszközön is szükséges telepíteni, továbbá a VS Code-ot is ajánlott, mert megkönnyíti a fejlesztői munkát"
   ]
  },
  {
   "cell_type": "markdown",
   "metadata": {},
   "source": [
    "\n",
    "\n",
    "### Miért Python?\n",
    "- jelenleg a legnépszerűbb programozási nyelv\n",
    "- a mögötte lévő motiváció az egyszerű szintaktika, átlátható kód\n",
    "- bármire használható\n",
    "- könnyen tanulható\n",
    "- a mesterséges intelligencia szinte kizárolagos nyelve"
   ]
  },
  {
   "cell_type": "markdown",
   "metadata": {},
   "source": [
    "## Jupyter Notebook futtatása Anacondából: \n",
    "- Telepítés után az Anaconda Navigator indítása után a Jupyter Notebook alatti Launchra kattintva\n",
    "- Vagy az Anaconda Prompt (terminál) használatával (az utóbbi javasolt)\n",
    "### Anaconda Prompt: Egy terminál, ami közvetlen kapcsolatban áll az Anacondával - lehetővé teszi fejlesztői környezetek létrehozását, könyvtárak telepítését és mindent, amire egyébként a rendszer saját terminálja képes\n",
    "### __Jupyter Notebook indítása Anaconda Promptból__: a `jupyter notebook` parancs begépelése, majd enter <br> - ezt megelőzően lehetőség van a használni kívánt könyvtár kiválasztására (a későbbiekben ez lesz a projekt gyökérkönytára) - így a böngészőben megnyílik a jupyter\n",
    "### Itt a jobb felső New menüre kattintva van lehetőségünk új python - pontosabban IPython Notebook - (ipynb) fájl létrehozására\n"
   ]
  },
  {
   "cell_type": "markdown",
   "metadata": {},
   "source": [
    " "
   ]
  },
  {
   "cell_type": "markdown",
   "metadata": {},
   "source": [
    "# Jupyter futtatása Visual Studio Code-ból\n",
    "## Először az Anacondát telepítsük\n",
    "### Szükséges a kiegészítők Jupyter Notebookhoz (ezeket az Extensions menüből lehet telepíteni - Crtl+Shift+X):\n",
    "- Jupyter\n",
    "- Python (ajánlott)\n",
    "- Pylint (ajánlott)\n",
    "\n",
    "### Az Explorer menüben (Ctrl+Shift+E) a New File ikonra kattintva tudunk létrehozni bármilyen fájlt <br> ipynb (IPython Notebook - speckó python fájl) esetén a fájlnak .ipynb-re kell végződnie (ez a kiterjesztése, úgyhogy a . is szükséges!)\n",
    "### Ezt követően a létrejött fájlba kattintva a shift+enter billentyákombinációra előjön egy ablak, ahol ki tudjuk választani a python interpretert - ez kezdetben legyen a base-szel kezdődő\n",
    "<br>"
   ]
  },
  {
   "cell_type": "markdown",
   "metadata": {},
   "source": [
    "# Ha a telepítés során bárki elakad, használja az alábbi tutorialt:\n",
    "[Get started with Jupyter Notebooks in less than 4 minutes](https://www.youtube.com/watch?v=h1sAzPojKMg)"
   ]
  },
  {
   "cell_type": "markdown",
   "metadata": {},
   "source": [
    " "
   ]
  },
  {
   "cell_type": "markdown",
   "metadata": {},
   "source": [
    "# Az 1. óra anyaga"
   ]
  },
  {
   "cell_type": "markdown",
   "metadata": {},
   "source": [
    "### Windows terminal (command prompt) parancsok:\n",
    "- `dir` : jelenlegi könyvtár elemeinek listázása\n",
    "- `cd` : könyvár megváltoztatása (abszolút vagy relatív útvonallal)\n",
    "- `cd ..` kilépés az anyakönyvtárba\n",
    "- `mkdir mappa_neve` : mappa létrehozása a jelenlegi könyvtárban\n",
    "- `del tartalom_neve` : tartalom (kivéve mappa) törlése \n",
    "- `rmdir mappa_neve` : üres mappa törlése\n",
    "- `rmdir mappa_neve /s` :  mappa törlése (ha nem üres megkérdezi a windows, hogy biztosan törölni szeretnénk-e)"
   ]
  },
  {
   "cell_type": "markdown",
   "metadata": {},
   "source": [
    "## Jupyter Notebook használata\n",
    "### Blokkok (Cellák) futtatása \n",
    "- Ctrl + Enter (jelenlegiben marad)\n",
    "- Shift + Enter (továbblép a következőre vagy létrehozza azt)\n",
    "\n",
    "### Tartalom szerkesztése\n",
    "- Lépjünk ki a cállából (Esc)\n",
    "- a billentyű -> új cella beszúrása a jelenlegi fölé\n",
    "- b billentyű -> új cella beszúrása a jelenlegi alá\n",
    "- m billentyű -> cella markdown-ná alakítása\n",
    "- y billentyű -> cella kóddá alakítása\n",
    "- x -> cella kivágása\n",
    "- d billyentű 2-szer -> cella törlése\n"
   ]
  },
  {
   "cell_type": "markdown",
   "metadata": {},
   "source": [
    "## Python adattípusok - és strukturák"
   ]
  },
  {
   "cell_type": "markdown",
   "metadata": {},
   "source": [
    "- `int` : egész szám\n",
    "- `float ` : tizedes tört\n",
    "- `bool` : logikai (igen/nem, 1 vagy 0)\n",
    "- `str` : szöveg\n",
    "- `list` : lista\n",
    "- `set` : halmaz\n",
    "- `dict` : dictionary ~ szótár ~ json\n",
    "- `tuple` ~ list, csak immutabilis (később)\n",
    "\n",
    "- `NoneType` : semmi, érték hiánya\n"
   ]
  },
  {
   "cell_type": "markdown",
   "metadata": {},
   "source": [
    "### Értékadás \n",
    "- = jellel\n",
    "- nem tartalmazhat speciális karaktert (kivéve _) és nem kezdődhet számmal\n",
    "- kis és nagybetű számít!"
   ]
  },
  {
   "cell_type": "code",
   "execution_count": 8,
   "metadata": {},
   "outputs": [
    {
     "data": {
      "text/plain": [
       "1"
      ]
     },
     "execution_count": 8,
     "metadata": {},
     "output_type": "execute_result"
    }
   ],
   "source": [
    "# int  -> ez egy komment, a ctrl+/ kommenté alakítja az aktuális sort vagy a kijelölést\n",
    "x = 1  # értékadás az = jellel történik \n",
    "\n",
    "x  # az utolsú értéket kíirja a jupyter"
   ]
  },
  {
   "cell_type": "code",
   "execution_count": 5,
   "metadata": {},
   "outputs": [
    {
     "name": "stdout",
     "output_type": "stream",
     "text": [
      "Hello World!\n"
     ]
    },
    {
     "data": {
      "text/plain": [
       "1"
      ]
     },
     "execution_count": 5,
     "metadata": {},
     "output_type": "execute_result"
    }
   ],
   "source": [
    "print(\"Hello World!\")  # ha egyéb esetben szeretnénk kiíratni valamit, a print() függvényt kell használnunk\n",
    "\n",
    "x"
   ]
  },
  {
   "cell_type": "code",
   "execution_count": 10,
   "metadata": {},
   "outputs": [
    {
     "name": "stdout",
     "output_type": "stream",
     "text": [
      "11\n",
      "3\n"
     ]
    }
   ],
   "source": [
    "# Lehet használni számológépként:\n",
    "print(x + 10)\n",
    "\n",
    "print(x + x*2)"
   ]
  },
  {
   "cell_type": "markdown",
   "metadata": {},
   "source": [
    "### Aritmetikai operátorok"
   ]
  },
  {
   "cell_type": "code",
   "execution_count": 24,
   "metadata": {},
   "outputs": [
    {
     "data": {
      "text/html": [
       "<div>\n",
       "<style scoped>\n",
       "    .dataframe tbody tr th:only-of-type {\n",
       "        vertical-align: middle;\n",
       "    }\n",
       "\n",
       "    .dataframe tbody tr th {\n",
       "        vertical-align: top;\n",
       "    }\n",
       "\n",
       "    .dataframe thead th {\n",
       "        text-align: right;\n",
       "    }\n",
       "</style>\n",
       "<table border=\"1\" class=\"dataframe\">\n",
       "  <thead>\n",
       "    <tr style=\"text-align: right;\">\n",
       "      <th></th>\n",
       "      <th>Operátor</th>\n",
       "      <th>Művelet</th>\n",
       "    </tr>\n",
       "  </thead>\n",
       "  <tbody>\n",
       "    <tr>\n",
       "      <th>0</th>\n",
       "      <td>+</td>\n",
       "      <td>összeadás</td>\n",
       "    </tr>\n",
       "    <tr>\n",
       "      <th>1</th>\n",
       "      <td>-</td>\n",
       "      <td>kivonás</td>\n",
       "    </tr>\n",
       "    <tr>\n",
       "      <th>2</th>\n",
       "      <td>*</td>\n",
       "      <td>szorzás</td>\n",
       "    </tr>\n",
       "    <tr>\n",
       "      <th>3</th>\n",
       "      <td>%</td>\n",
       "      <td>modulusz</td>\n",
       "    </tr>\n",
       "    <tr>\n",
       "      <th>4</th>\n",
       "      <td>**</td>\n",
       "      <td>hatványozás</td>\n",
       "    </tr>\n",
       "    <tr>\n",
       "      <th>5</th>\n",
       "      <td>//</td>\n",
       "      <td>egész osztás</td>\n",
       "    </tr>\n",
       "  </tbody>\n",
       "</table>\n",
       "</div>"
      ],
      "text/plain": [
       "  Operátor       Művelet\n",
       "0        +     összeadás\n",
       "1        -       kivonás\n",
       "2        *       szorzás\n",
       "3        %      modulusz\n",
       "4       **   hatványozás\n",
       "5       //  egész osztás"
      ]
     },
     "execution_count": 24,
     "metadata": {},
     "output_type": "execute_result"
    }
   ],
   "source": [
    "# Ilyet csinálunk majd később, most csak a táblázat a lényeg :)\n",
    "from pandas import DataFrame\n",
    "DataFrame({\n",
    "    \"Operátor\": [\"+\", \"-\", \"*\", \"%\", \"**\", \"//\"],\n",
    "    \"Művelet\": [\"összeadás\", \"kivonás\", \"szorzás\", \"modulusz\", \"hatványozás\", \"egész osztás\"]\n",
    "    })"
   ]
  },
  {
   "cell_type": "code",
   "execution_count": 27,
   "metadata": {},
   "outputs": [
    {
     "data": {
      "text/plain": [
       "10.77777"
      ]
     },
     "execution_count": 27,
     "metadata": {},
     "output_type": "execute_result"
    }
   ],
   "source": [
    "# float\n",
    "\n",
    "f = 10.7\n",
    "f = 10.77777  # felülírja az előző f változót\n",
    "f"
   ]
  },
  {
   "cell_type": "code",
   "execution_count": 36,
   "metadata": {},
   "outputs": [
    {
     "name": "stdout",
     "output_type": "stream",
     "text": [
      "True\n",
      "False\n",
      "True\n",
      "True\n",
      "False\n",
      "None\n"
     ]
    }
   ],
   "source": [
    "# bool - logikai adattípus\n",
    "\n",
    "# True vagy False\n",
    "# Aminek van tartalma, az True\n",
    "\n",
    "print(bool(1))\n",
    "print(bool(0))\n",
    "print(bool(10))\n",
    "print(bool(\"alma\"))\n",
    "print(bool(\"\"))  # az üres string False lesz\n",
    "print(None)  # a None a semmit jelöli -> Nondetype típus"
   ]
  },
  {
   "cell_type": "code",
   "execution_count": 47,
   "metadata": {},
   "outputs": [
    {
     "name": "stdout",
     "output_type": "stream",
     "text": [
      "alma és körte\n",
      "cicakutya\n"
     ]
    },
    {
     "data": {
      "text/plain": [
       "'cica kutya'"
      ]
     },
     "execution_count": 47,
     "metadata": {},
     "output_type": "execute_result"
    }
   ],
   "source": [
    "# str - string, szöveg\n",
    "\n",
    "# \"\" vagy '' - de a kezdetét csak önmaga zárhatja be - uroborosz :)\n",
    "\n",
    "print(\"alma és körte\")\n",
    "\n",
    "c = \"cica\"\n",
    "k = 'kutya'\n",
    "\n",
    "print(c + k)  # összevonás a + operátorral\n",
    "\n",
    "c + \" \" + k\n"
   ]
  },
  {
   "cell_type": "code",
   "execution_count": 60,
   "metadata": {},
   "outputs": [
    {
     "name": "stdout",
     "output_type": "stream",
     "text": [
      "[1, 2, 3, 'négy', 5.0, [10, 11]]\n",
      "1\n",
      "[1, 2, 3, 'négy', 5.0, [10, 11]]\n",
      "[2, 3]\n",
      "[10, 11]\n",
      "[2, 'négy', [10, 11]]\n"
     ]
    }
   ],
   "source": [
    "# list \n",
    "# [elemek]\n",
    "# elemek listája - a tartalma bármi lehet\n",
    "\n",
    "mylist = [1, 2, 3, \"négy\", 5.0, [10, 11]]\n",
    "print(mylist)\n",
    "\n",
    "print(mylist[0])  # indexálás: az adott helyiértéken álló értéket kapjuk meg - 0-tól indul !\n",
    "\n",
    "\n",
    "# Az úgynevezett slice-olás:\n",
    "# helyiértékek tól-ig\n",
    "print(mylist[0:])  # 0. indextől az objektum végéig\n",
    "\n",
    "print(mylist[1:3])\n",
    "\n",
    "print(mylist[-1])  # az utolsó elem (ez a [10, 11] lista)\n",
    "\n",
    "print(mylist[1::2])  # 1. indextől a végéig 2-essével"
   ]
  },
  {
   "cell_type": "markdown",
   "metadata": {},
   "source": [
    "# __!!! A záró index exkluzív !!!__\n"
   ]
  },
  {
   "cell_type": "code",
   "execution_count": 61,
   "metadata": {},
   "outputs": [
    {
     "name": "stdout",
     "output_type": "stream",
     "text": [
      "[1, 2, 3, 'négy', 5.0, [10, 11]]\n"
     ]
    },
    {
     "data": {
      "text/plain": [
       "[2]"
      ]
     },
     "execution_count": 61,
     "metadata": {},
     "output_type": "execute_result"
    }
   ],
   "source": [
    "print(mylist)\n",
    "mylist[1:2]  # csak az 1. index értékét adja vissza"
   ]
  },
  {
   "cell_type": "code",
   "execution_count": 64,
   "metadata": {},
   "outputs": [
    {
     "data": {
      "text/plain": [
       "{1, 2, 3, 4}"
      ]
     },
     "execution_count": 64,
     "metadata": {},
     "output_type": "execute_result"
    }
   ],
   "source": [
    "# set - halmaz\n",
    "# {elemek}\n",
    "# valójában egy rendezetlen lista (nem lehet indexálni), amiben 1 érték csak 1-szer szerepelhet\n",
    "\n",
    "{1,2,3, 1,2,3, 1,2,3, 4,4,4,4}\n"
   ]
  },
  {
   "cell_type": "code",
   "execution_count": 68,
   "metadata": {},
   "outputs": [
    {
     "data": {
      "text/plain": [
       "{'kenyér': ['liszt', 'víz', 'só'],\n",
       " 'carbonara': ['tészta', 'tojás', 'parmezán', 'pancetta', 'bors']}"
      ]
     },
     "execution_count": 68,
     "metadata": {},
     "output_type": "execute_result"
    }
   ],
   "source": [
    "# dict - dictionary\n",
    "# kulcsokból és hozzájuk tartozó értékekből álló adatstruktúra - a json fáj pythonos megfelelője\n",
    "# {kulcs: érték, kulcs2: érték}\n",
    "\n",
    "dictionary = {\n",
    "    \"kenyér\": [\"liszt\", \"víz\", \"só\"],\n",
    "    \"carbonara\": ['tészta', 'tojás', 'parmezán', 'pancetta', 'bors']\n",
    "}\n",
    "\n",
    "dictionary"
   ]
  },
  {
   "cell_type": "markdown",
   "metadata": {},
   "source": [
    "## Dictionary esetén is lehet indexálni, de a kulcsokra kell hivatkozni és egyszerre csak 1-re lehet !"
   ]
  },
  {
   "cell_type": "code",
   "execution_count": 73,
   "metadata": {},
   "outputs": [
    {
     "data": {
      "text/plain": [
       "['liszt', 'víz', 'só']"
      ]
     },
     "execution_count": 73,
     "metadata": {},
     "output_type": "execute_result"
    }
   ],
   "source": [
    "dictionary[\"kenyér\"]"
   ]
  },
  {
   "cell_type": "markdown",
   "metadata": {},
   "source": [
    " "
   ]
  },
  {
   "cell_type": "markdown",
   "metadata": {},
   "source": [
    "# Ha valaminek a működésében nem vagyunk biztosak próbáljuk ki, max hibát fog dobni\n",
    "# A legtöbbször elég beszédesek a python hibaüzenetei, ezekből is sokat lehet tanulni"
   ]
  },
  {
   "cell_type": "code",
   "execution_count": 77,
   "metadata": {},
   "outputs": [
    {
     "ename": "TypeError",
     "evalue": "can't multiply sequence by non-int of type 'str'",
     "output_type": "error",
     "traceback": [
      "\u001b[1;31m---------------------------------------------------------------------------\u001b[0m",
      "\u001b[1;31mTypeError\u001b[0m                                 Traceback (most recent call last)",
      "Cell \u001b[1;32mIn[77], line 1\u001b[0m\n\u001b[1;32m----> 1\u001b[0m \u001b[39mprint\u001b[39m(\u001b[39m\"\u001b[39;49m\u001b[39mszöveg\u001b[39;49m\u001b[39m\"\u001b[39;49m \u001b[39m*\u001b[39;49m \u001b[39m\"\u001b[39;49m\u001b[39mszöveg\u001b[39;49m\u001b[39m\"\u001b[39;49m)  \u001b[39m# stringek esetén pl. a szorzás nem értelmezhető\u001b[39;00m\n",
      "\u001b[1;31mTypeError\u001b[0m: can't multiply sequence by non-int of type 'str'"
     ]
    }
   ],
   "source": [
    "print(\"szöveg\" * \"szöveg\")  # stringek esetén pl. a szorzás nem értelmezhető"
   ]
  },
  {
   "cell_type": "markdown",
   "metadata": {},
   "source": [
    "## Merjünk hibázni és használjuk a google-t \n",
    "- lehetetlen mindent tudni a programozásról - a hibázás és a válaszok kutatása folyamatos feladat több éves tapasztalat mellett is\n",
    "### pl. az előző esetben egyszerűen beilleszthetjük a keresőbe, hogy\n",
    "`TypeError: can't multiply sequence by non-int of type 'str'`\n",
    "### Majdnem biztos, hogy valaki már feltöltötte a hibát egy fórumra, amin megválaszolták\n",
    "\n",
    "### A legnépszerűbb ilyen oldal a [stackoverflow](https://stackoverflow.com/) - érdemes ismerkedni vele :)"
   ]
  }
 ],
 "metadata": {
  "kernelspec": {
   "display_name": "Python 3 (ipykernel)",
   "language": "python",
   "name": "python3"
  },
  "language_info": {
   "codemirror_mode": {
    "name": "ipython",
    "version": 3
   },
   "file_extension": ".py",
   "mimetype": "text/x-python",
   "name": "python",
   "nbconvert_exporter": "python",
   "pygments_lexer": "ipython3",
   "version": "3.9.13"
  },
  "vscode": {
   "interpreter": {
    "hash": "31fb2701a5b6741a4bb40498918d588a45804fdf17c7d31a201ac12401c94785"
   }
  }
 },
 "nbformat": 4,
 "nbformat_minor": 2
}
